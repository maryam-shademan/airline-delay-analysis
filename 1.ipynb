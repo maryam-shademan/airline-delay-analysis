{
 "cells": [
  {
   "cell_type": "code",
   "execution_count": 410,
   "id": "eceefae9",
   "metadata": {},
   "outputs": [
    {
     "data": {
      "text/html": [
       "<div>\n",
       "<style scoped>\n",
       "    .dataframe tbody tr th:only-of-type {\n",
       "        vertical-align: middle;\n",
       "    }\n",
       "\n",
       "    .dataframe tbody tr th {\n",
       "        vertical-align: top;\n",
       "    }\n",
       "\n",
       "    .dataframe thead th {\n",
       "        text-align: right;\n",
       "    }\n",
       "</style>\n",
       "<table border=\"1\" class=\"dataframe\">\n",
       "  <thead>\n",
       "    <tr style=\"text-align: right;\">\n",
       "      <th></th>\n",
       "      <th>flight_id</th>\n",
       "      <th>airline</th>\n",
       "      <th>origin</th>\n",
       "      <th>destination</th>\n",
       "      <th>dep_time</th>\n",
       "      <th>day_of_week</th>\n",
       "      <th>weather</th>\n",
       "      <th>delay_min</th>\n",
       "    </tr>\n",
       "  </thead>\n",
       "  <tbody>\n",
       "    <tr>\n",
       "      <th>195</th>\n",
       "      <td>F1195</td>\n",
       "      <td>American Airlines</td>\n",
       "      <td>ORD</td>\n",
       "      <td>BOS</td>\n",
       "      <td>11:02</td>\n",
       "      <td>7</td>\n",
       "      <td>Clear</td>\n",
       "      <td>26</td>\n",
       "    </tr>\n",
       "    <tr>\n",
       "      <th>196</th>\n",
       "      <td>F1196</td>\n",
       "      <td>American Airlines</td>\n",
       "      <td>JFK</td>\n",
       "      <td>MIA</td>\n",
       "      <td>02:44</td>\n",
       "      <td>2</td>\n",
       "      <td>Snowy</td>\n",
       "      <td>57</td>\n",
       "    </tr>\n",
       "    <tr>\n",
       "      <th>197</th>\n",
       "      <td>F1197</td>\n",
       "      <td>JetBlue</td>\n",
       "      <td>JFK</td>\n",
       "      <td>MIA</td>\n",
       "      <td>00:57</td>\n",
       "      <td>7</td>\n",
       "      <td>Foggy</td>\n",
       "      <td>56</td>\n",
       "    </tr>\n",
       "    <tr>\n",
       "      <th>198</th>\n",
       "      <td>F1198</td>\n",
       "      <td>Southwest</td>\n",
       "      <td>DFW</td>\n",
       "      <td>SEA</td>\n",
       "      <td>08:33</td>\n",
       "      <td>4</td>\n",
       "      <td>Clear</td>\n",
       "      <td>7</td>\n",
       "    </tr>\n",
       "    <tr>\n",
       "      <th>199</th>\n",
       "      <td>F1199</td>\n",
       "      <td>American Airlines</td>\n",
       "      <td>JFK</td>\n",
       "      <td>DEN</td>\n",
       "      <td>21:01</td>\n",
       "      <td>7</td>\n",
       "      <td>Stormy</td>\n",
       "      <td>28</td>\n",
       "    </tr>\n",
       "  </tbody>\n",
       "</table>\n",
       "</div>"
      ],
      "text/plain": [
       "    flight_id            airline origin destination dep_time  day_of_week  \\\n",
       "195     F1195  American Airlines    ORD         BOS    11:02            7   \n",
       "196     F1196  American Airlines    JFK         MIA    02:44            2   \n",
       "197     F1197            JetBlue    JFK         MIA    00:57            7   \n",
       "198     F1198          Southwest    DFW         SEA    08:33            4   \n",
       "199     F1199  American Airlines    JFK         DEN    21:01            7   \n",
       "\n",
       "    weather  delay_min  \n",
       "195   Clear         26  \n",
       "196   Snowy         57  \n",
       "197   Foggy         56  \n",
       "198   Clear          7  \n",
       "199  Stormy         28  "
      ]
     },
     "execution_count": 410,
     "metadata": {},
     "output_type": "execute_result"
    }
   ],
   "source": [
    "import pandas as pd\n",
    "import numpy as np\n",
    "from sklearn.preprocessing import LabelEncoder\n",
    "data = pd.read_csv(\"./flight_delays (3).csv\")\n",
    "data.tail()"
   ]
  },
  {
   "cell_type": "code",
   "execution_count": 411,
   "id": "3979e061",
   "metadata": {},
   "outputs": [
    {
     "data": {
      "text/html": [
       "<div>\n",
       "<style scoped>\n",
       "    .dataframe tbody tr th:only-of-type {\n",
       "        vertical-align: middle;\n",
       "    }\n",
       "\n",
       "    .dataframe tbody tr th {\n",
       "        vertical-align: top;\n",
       "    }\n",
       "\n",
       "    .dataframe thead th {\n",
       "        text-align: right;\n",
       "    }\n",
       "</style>\n",
       "<table border=\"1\" class=\"dataframe\">\n",
       "  <thead>\n",
       "    <tr style=\"text-align: right;\">\n",
       "      <th></th>\n",
       "      <th>day_of_week</th>\n",
       "      <th>delay_min</th>\n",
       "    </tr>\n",
       "  </thead>\n",
       "  <tbody>\n",
       "    <tr>\n",
       "      <th>count</th>\n",
       "      <td>200.000000</td>\n",
       "      <td>200.000000</td>\n",
       "    </tr>\n",
       "    <tr>\n",
       "      <th>mean</th>\n",
       "      <td>4.030000</td>\n",
       "      <td>52.660000</td>\n",
       "    </tr>\n",
       "    <tr>\n",
       "      <th>std</th>\n",
       "      <td>2.032178</td>\n",
       "      <td>31.699189</td>\n",
       "    </tr>\n",
       "    <tr>\n",
       "      <th>min</th>\n",
       "      <td>1.000000</td>\n",
       "      <td>0.000000</td>\n",
       "    </tr>\n",
       "    <tr>\n",
       "      <th>25%</th>\n",
       "      <td>2.000000</td>\n",
       "      <td>26.750000</td>\n",
       "    </tr>\n",
       "    <tr>\n",
       "      <th>50%</th>\n",
       "      <td>4.000000</td>\n",
       "      <td>53.000000</td>\n",
       "    </tr>\n",
       "    <tr>\n",
       "      <th>75%</th>\n",
       "      <td>6.000000</td>\n",
       "      <td>77.000000</td>\n",
       "    </tr>\n",
       "    <tr>\n",
       "      <th>max</th>\n",
       "      <td>7.000000</td>\n",
       "      <td>118.000000</td>\n",
       "    </tr>\n",
       "  </tbody>\n",
       "</table>\n",
       "</div>"
      ],
      "text/plain": [
       "       day_of_week   delay_min\n",
       "count   200.000000  200.000000\n",
       "mean      4.030000   52.660000\n",
       "std       2.032178   31.699189\n",
       "min       1.000000    0.000000\n",
       "25%       2.000000   26.750000\n",
       "50%       4.000000   53.000000\n",
       "75%       6.000000   77.000000\n",
       "max       7.000000  118.000000"
      ]
     },
     "execution_count": 411,
     "metadata": {},
     "output_type": "execute_result"
    }
   ],
   "source": [
    "data.describe()"
   ]
  },
  {
   "cell_type": "code",
   "execution_count": 412,
   "id": "39361269",
   "metadata": {},
   "outputs": [
    {
     "data": {
      "text/html": [
       "<div>\n",
       "<style scoped>\n",
       "    .dataframe tbody tr th:only-of-type {\n",
       "        vertical-align: middle;\n",
       "    }\n",
       "\n",
       "    .dataframe tbody tr th {\n",
       "        vertical-align: top;\n",
       "    }\n",
       "\n",
       "    .dataframe thead th {\n",
       "        text-align: right;\n",
       "    }\n",
       "</style>\n",
       "<table border=\"1\" class=\"dataframe\">\n",
       "  <thead>\n",
       "    <tr style=\"text-align: right;\">\n",
       "      <th></th>\n",
       "      <th>flight_id</th>\n",
       "      <th>airline</th>\n",
       "      <th>origin</th>\n",
       "      <th>destination</th>\n",
       "      <th>dep_time</th>\n",
       "      <th>day_of_week</th>\n",
       "      <th>weather</th>\n",
       "      <th>delay_min</th>\n",
       "    </tr>\n",
       "  </thead>\n",
       "  <tbody>\n",
       "    <tr>\n",
       "      <th>0</th>\n",
       "      <td>F1000</td>\n",
       "      <td>4</td>\n",
       "      <td>2</td>\n",
       "      <td>4</td>\n",
       "      <td>16:15</td>\n",
       "      <td>2</td>\n",
       "      <td>1</td>\n",
       "      <td>76</td>\n",
       "    </tr>\n",
       "    <tr>\n",
       "      <th>1</th>\n",
       "      <td>F1001</td>\n",
       "      <td>2</td>\n",
       "      <td>1</td>\n",
       "      <td>3</td>\n",
       "      <td>13:55</td>\n",
       "      <td>1</td>\n",
       "      <td>2</td>\n",
       "      <td>90</td>\n",
       "    </tr>\n",
       "    <tr>\n",
       "      <th>2</th>\n",
       "      <td>F1002</td>\n",
       "      <td>3</td>\n",
       "      <td>3</td>\n",
       "      <td>1</td>\n",
       "      <td>00:09</td>\n",
       "      <td>1</td>\n",
       "      <td>0</td>\n",
       "      <td>14</td>\n",
       "    </tr>\n",
       "    <tr>\n",
       "      <th>3</th>\n",
       "      <td>F1003</td>\n",
       "      <td>2</td>\n",
       "      <td>4</td>\n",
       "      <td>3</td>\n",
       "      <td>18:39</td>\n",
       "      <td>3</td>\n",
       "      <td>1</td>\n",
       "      <td>90</td>\n",
       "    </tr>\n",
       "    <tr>\n",
       "      <th>4</th>\n",
       "      <td>F1004</td>\n",
       "      <td>2</td>\n",
       "      <td>4</td>\n",
       "      <td>0</td>\n",
       "      <td>18:00</td>\n",
       "      <td>3</td>\n",
       "      <td>0</td>\n",
       "      <td>6</td>\n",
       "    </tr>\n",
       "    <tr>\n",
       "      <th>...</th>\n",
       "      <td>...</td>\n",
       "      <td>...</td>\n",
       "      <td>...</td>\n",
       "      <td>...</td>\n",
       "      <td>...</td>\n",
       "      <td>...</td>\n",
       "      <td>...</td>\n",
       "      <td>...</td>\n",
       "    </tr>\n",
       "    <tr>\n",
       "      <th>195</th>\n",
       "      <td>F1195</td>\n",
       "      <td>0</td>\n",
       "      <td>4</td>\n",
       "      <td>0</td>\n",
       "      <td>11:02</td>\n",
       "      <td>7</td>\n",
       "      <td>0</td>\n",
       "      <td>26</td>\n",
       "    </tr>\n",
       "    <tr>\n",
       "      <th>196</th>\n",
       "      <td>F1196</td>\n",
       "      <td>0</td>\n",
       "      <td>2</td>\n",
       "      <td>2</td>\n",
       "      <td>02:44</td>\n",
       "      <td>2</td>\n",
       "      <td>3</td>\n",
       "      <td>57</td>\n",
       "    </tr>\n",
       "    <tr>\n",
       "      <th>197</th>\n",
       "      <td>F1197</td>\n",
       "      <td>2</td>\n",
       "      <td>2</td>\n",
       "      <td>2</td>\n",
       "      <td>00:57</td>\n",
       "      <td>7</td>\n",
       "      <td>1</td>\n",
       "      <td>56</td>\n",
       "    </tr>\n",
       "    <tr>\n",
       "      <th>198</th>\n",
       "      <td>F1198</td>\n",
       "      <td>3</td>\n",
       "      <td>1</td>\n",
       "      <td>3</td>\n",
       "      <td>08:33</td>\n",
       "      <td>4</td>\n",
       "      <td>0</td>\n",
       "      <td>7</td>\n",
       "    </tr>\n",
       "    <tr>\n",
       "      <th>199</th>\n",
       "      <td>F1199</td>\n",
       "      <td>0</td>\n",
       "      <td>2</td>\n",
       "      <td>1</td>\n",
       "      <td>21:01</td>\n",
       "      <td>7</td>\n",
       "      <td>4</td>\n",
       "      <td>28</td>\n",
       "    </tr>\n",
       "  </tbody>\n",
       "</table>\n",
       "<p>200 rows × 8 columns</p>\n",
       "</div>"
      ],
      "text/plain": [
       "    flight_id  airline  origin  destination dep_time  day_of_week  weather  \\\n",
       "0       F1000        4       2            4    16:15            2        1   \n",
       "1       F1001        2       1            3    13:55            1        2   \n",
       "2       F1002        3       3            1    00:09            1        0   \n",
       "3       F1003        2       4            3    18:39            3        1   \n",
       "4       F1004        2       4            0    18:00            3        0   \n",
       "..        ...      ...     ...          ...      ...          ...      ...   \n",
       "195     F1195        0       4            0    11:02            7        0   \n",
       "196     F1196        0       2            2    02:44            2        3   \n",
       "197     F1197        2       2            2    00:57            7        1   \n",
       "198     F1198        3       1            3    08:33            4        0   \n",
       "199     F1199        0       2            1    21:01            7        4   \n",
       "\n",
       "     delay_min  \n",
       "0           76  \n",
       "1           90  \n",
       "2           14  \n",
       "3           90  \n",
       "4            6  \n",
       "..         ...  \n",
       "195         26  \n",
       "196         57  \n",
       "197         56  \n",
       "198          7  \n",
       "199         28  \n",
       "\n",
       "[200 rows x 8 columns]"
      ]
     },
     "execution_count": 412,
     "metadata": {},
     "output_type": "execute_result"
    }
   ],
   "source": [
    "from sklearn.preprocessing import LabelEncoder\n",
    "\n",
    "encoder = {}\n",
    "for column in [ \"airline\", \"origin\", \"destination\", \"weather\" ]:\n",
    "    encoder[column] = LabelEncoder()\n",
    "    data[column] = encoder[column].fit_transform(data[column])\n",
    "data"
   ]
  },
  {
   "cell_type": "code",
   "execution_count": 413,
   "id": "d2c042a6",
   "metadata": {},
   "outputs": [
    {
     "name": "stdout",
     "output_type": "stream",
     "text": [
      "     dep_time\n",
      "195       662\n",
      "196       164\n",
      "197        57\n",
      "198       513\n",
      "199      1261\n"
     ]
    }
   ],
   "source": [
    "def tim_to_mint(tim_str):\n",
    "  hours, minutes = map(int,tim_str.split(\":\"))\n",
    "  return hours*60 + minutes\n",
    "data[\"dep_time\"]=data[\"dep_time\"].apply(tim_to_mint)\n",
    "print(data[['dep_time']].tail())\n"
   ]
  },
  {
   "cell_type": "code",
   "execution_count": 414,
   "id": "823ef67e",
   "metadata": {},
   "outputs": [
    {
     "data": {
      "text/html": [
       "<div>\n",
       "<style scoped>\n",
       "    .dataframe tbody tr th:only-of-type {\n",
       "        vertical-align: middle;\n",
       "    }\n",
       "\n",
       "    .dataframe tbody tr th {\n",
       "        vertical-align: top;\n",
       "    }\n",
       "\n",
       "    .dataframe thead th {\n",
       "        text-align: right;\n",
       "    }\n",
       "</style>\n",
       "<table border=\"1\" class=\"dataframe\">\n",
       "  <thead>\n",
       "    <tr style=\"text-align: right;\">\n",
       "      <th></th>\n",
       "      <th>flight_id</th>\n",
       "      <th>airline</th>\n",
       "      <th>origin</th>\n",
       "      <th>destination</th>\n",
       "      <th>dep_time</th>\n",
       "      <th>day_of_week</th>\n",
       "      <th>weather</th>\n",
       "      <th>delay_min</th>\n",
       "    </tr>\n",
       "  </thead>\n",
       "  <tbody>\n",
       "    <tr>\n",
       "      <th>count</th>\n",
       "      <td>200</td>\n",
       "      <td>200</td>\n",
       "      <td>200</td>\n",
       "      <td>200</td>\n",
       "      <td>200</td>\n",
       "      <td>200</td>\n",
       "      <td>200</td>\n",
       "      <td>200</td>\n",
       "    </tr>\n",
       "    <tr>\n",
       "      <th>unique</th>\n",
       "      <td>1</td>\n",
       "      <td>1</td>\n",
       "      <td>1</td>\n",
       "      <td>1</td>\n",
       "      <td>1</td>\n",
       "      <td>1</td>\n",
       "      <td>1</td>\n",
       "      <td>1</td>\n",
       "    </tr>\n",
       "    <tr>\n",
       "      <th>top</th>\n",
       "      <td>False</td>\n",
       "      <td>False</td>\n",
       "      <td>False</td>\n",
       "      <td>False</td>\n",
       "      <td>False</td>\n",
       "      <td>False</td>\n",
       "      <td>False</td>\n",
       "      <td>False</td>\n",
       "    </tr>\n",
       "    <tr>\n",
       "      <th>freq</th>\n",
       "      <td>200</td>\n",
       "      <td>200</td>\n",
       "      <td>200</td>\n",
       "      <td>200</td>\n",
       "      <td>200</td>\n",
       "      <td>200</td>\n",
       "      <td>200</td>\n",
       "      <td>200</td>\n",
       "    </tr>\n",
       "  </tbody>\n",
       "</table>\n",
       "</div>"
      ],
      "text/plain": [
       "       flight_id airline origin destination dep_time day_of_week weather  \\\n",
       "count        200     200    200         200      200         200     200   \n",
       "unique         1       1      1           1        1           1       1   \n",
       "top        False   False  False       False    False       False   False   \n",
       "freq         200     200    200         200      200         200     200   \n",
       "\n",
       "       delay_min  \n",
       "count        200  \n",
       "unique         1  \n",
       "top        False  \n",
       "freq         200  "
      ]
     },
     "execution_count": 414,
     "metadata": {},
     "output_type": "execute_result"
    }
   ],
   "source": [
    "data.isnull().describe()\n",
    "#داده نال وجود ندارد"
   ]
  },
  {
   "cell_type": "code",
   "execution_count": 415,
   "id": "d77b5b19",
   "metadata": {},
   "outputs": [
    {
     "data": {
      "text/plain": [
       "flight_id      0\n",
       "airline        0\n",
       "origin         0\n",
       "destination    0\n",
       "dep_time       0\n",
       "day_of_week    0\n",
       "weather        0\n",
       "delay_min      0\n",
       "dtype: int64"
      ]
     },
     "execution_count": 415,
     "metadata": {},
     "output_type": "execute_result"
    }
   ],
   "source": [
    "data.isnull().sum()\n",
    "#داده نال وجود ندارد"
   ]
  },
  {
   "cell_type": "code",
   "execution_count": 416,
   "id": "9fb526a7",
   "metadata": {},
   "outputs": [
    {
     "data": {
      "text/plain": [
       "count    200.000000\n",
       "mean      52.660000\n",
       "std       31.699189\n",
       "min        0.000000\n",
       "25%       26.750000\n",
       "50%       53.000000\n",
       "75%       77.000000\n",
       "max      118.000000\n",
       "Name: delay_min, dtype: float64"
      ]
     },
     "execution_count": 416,
     "metadata": {},
     "output_type": "execute_result"
    }
   ],
   "source": [
    "data[\"delay_min\"].describe()"
   ]
  },
  {
   "cell_type": "code",
   "execution_count": 417,
   "id": "992781ab",
   "metadata": {},
   "outputs": [
    {
     "data": {
      "text/plain": [
       "count     200.000000\n",
       "mean      760.955000\n",
       "std       400.958103\n",
       "min         9.000000\n",
       "25%       414.250000\n",
       "50%       802.000000\n",
       "75%      1084.750000\n",
       "max      1420.000000\n",
       "Name: dep_time, dtype: float64"
      ]
     },
     "execution_count": 417,
     "metadata": {},
     "output_type": "execute_result"
    }
   ],
   "source": [
    "\n",
    "data[\"dep_time\"].describe()"
   ]
  },
  {
   "cell_type": "code",
   "execution_count": 418,
   "id": "c4f6a75e",
   "metadata": {},
   "outputs": [
    {
     "data": {
      "image/png": "[encoded data removed]",
      "text/plain": [
       "<Figure size 600x400 with 1 Axes>"
      ]
     },
     "metadata": {},
     "output_type": "display_data"
    }
   ],
   "source": [
    "import seaborn as sns\n",
    "import matplotlib.pyplot as plt\n",
    "\n",
    "plt.figure(figsize=(6, 4))\n",
    "sns.boxplot(x=data[\"delay_min\"])\n",
    "plt.title(\"Box Plot of Delay (minutes)\")\n",
    "plt.xlabel(\"Delay (min)\")\n",
    "plt.show()\n"
   ]
  },
  {
   "cell_type": "markdown",
   "id": "5f34bce3",
   "metadata": {},
   "source": [
    "# چون دیدیم که تاخیر بیشتر از 90  دقیقه است پس  میانگین جایگذاری میکنیم\n"
   ]
  },
  {
   "cell_type": "code",
   "execution_count": 419,
   "id": "23564dd2",
   "metadata": {},
   "outputs": [
    {
     "name": "stdout",
     "output_type": "stream",
     "text": [
      "بیشترین تأخیر: 118 دقیقه\n"
     ]
    }
   ],
   "source": [
    "max_delay = data[\"delay_min\"].max()\n",
    "print(f\"بیشترین تأخیر: {max_delay} دقیقه\")"
   ]
  },
  {
   "cell_type": "code",
   "execution_count": 420,
   "id": "1c2b3bee",
   "metadata": {},
   "outputs": [
    {
     "name": "stdout",
     "output_type": "stream",
     "text": [
      "1 پرواز تأخیر غیرعادی دارند\n"
     ]
    }
   ],
   "source": [
    "delay = len([data[\"delay_min\"]>90])\n",
    "print(f\"{delay} پرواز تأخیر غیرعادی دارند\")"
   ]
  },
  {
   "cell_type": "code",
   "execution_count": 421,
   "id": "3f47249a",
   "metadata": {},
   "outputs": [],
   "source": [
    "median= data[\"delay_min\"].median()\n",
    "data[\"delay_min\"]=data[\"delay_min\"].apply(lambda x:median if x > 90 else x)"
   ]
  },
  {
   "cell_type": "code",
   "execution_count": 422,
   "id": "89f4b0c5",
   "metadata": {},
   "outputs": [
    {
     "name": "stdout",
     "output_type": "stream",
     "text": [
      "آمار توصیفی تأخیرها:\n",
      "count    200.00000\n",
      "mean      44.92500\n",
      "std       23.56429\n",
      "min        0.00000\n",
      "25%       26.75000\n",
      "50%       53.00000\n",
      "75%       58.00000\n",
      "max       90.00000\n",
      "Name: delay_min, dtype: float64\n"
     ]
    }
   ],
   "source": [
    "print(\"آمار توصیفی تأخیرها:\")\n",
    "print(data[\"delay_min\"].describe())\n"
   ]
  },
  {
   "cell_type": "code",
   "execution_count": 423,
   "id": "f360e18f",
   "metadata": {},
   "outputs": [
    {
     "data": {
      "image/png": "[encoded data removed]",
      "text/plain": [
       "<Figure size 600x400 with 1 Axes>"
      ]
     },
     "metadata": {},
     "output_type": "display_data"
    }
   ],
   "source": [
    "plt.figure(figsize=(6, 4))\n",
    "sns.boxplot(x=data[\"dep_time\"])\n",
    "plt.title(\"Boxplot of Departure Time\")\n",
    "plt.xlabel(\"Departure Time (minutes)\")\n",
    "plt.show()"
   ]
  },
  {
   "cell_type": "code",
   "execution_count": 424,
   "id": "0ad14a96",
   "metadata": {},
   "outputs": [
    {
     "name": "stdout",
     "output_type": "stream",
     "text": [
      "بیشترین زمان: 1420 دقیقه\n"
     ]
    }
   ],
   "source": [
    "max_delay = data[\"dep_time\"].max()\n",
    "print(f\"بیشترین زمان: {max_delay} دقیقه\")"
   ]
  },
  {
   "cell_type": "code",
   "execution_count": 425,
   "id": "c3a54d87",
   "metadata": {},
   "outputs": [
    {
     "name": "stdout",
     "output_type": "stream",
     "text": [
      "1زمان غرعادی\n"
     ]
    }
   ],
   "source": [
    "max_time  = len([data[\"dep_time\"]>1400])\n",
    "print(f\"{max_time}زمان غرعادی\")"
   ]
  },
  {
   "cell_type": "code",
   "execution_count": 426,
   "id": "79c1c2f7",
   "metadata": {},
   "outputs": [
    {
     "name": "stdout",
     "output_type": "stream",
     "text": [
      "تعداد زمان‌های نامعتبر: 0\n"
     ]
    }
   ],
   "source": [
    "# شناسایی داده‌های نامعتبر\n",
    "invalid_times = data[(data[\"dep_time\"] < 0) | (data[\"dep_time\"] >= 1440)]\n",
    "print(f\"تعداد زمان‌های نامعتبر: {len(invalid_times)}\")\n",
    "\n",
    "# حذف یا اصلاح داده‌های نامعتبر\n",
    "data_clean = data[(data[\"dep_time\"] >= 0) & (data[\"dep_time\"] < 1440)]\n"
   ]
  },
  {
   "cell_type": "code",
   "execution_count": 427,
   "id": "2cd4bf3a",
   "metadata": {},
   "outputs": [
    {
     "data": {
      "text/plain": [
       "count     200.000000\n",
       "mean      760.955000\n",
       "std       400.958103\n",
       "min         9.000000\n",
       "25%       414.250000\n",
       "50%       802.000000\n",
       "75%      1084.750000\n",
       "max      1420.000000\n",
       "Name: dep_time, dtype: float64"
      ]
     },
     "execution_count": 427,
     "metadata": {},
     "output_type": "execute_result"
    }
   ],
   "source": [
    "data[\"dep_time\"].describe()"
   ]
  },
  {
   "cell_type": "code",
   "execution_count": 428,
   "id": "aec42e18",
   "metadata": {},
   "outputs": [
    {
     "name": "stdout",
     "output_type": "stream",
     "text": [
      "تعداد داده‌های آموزش: 160\n",
      "تعداد داده‌های آزمون: 40\n"
     ]
    }
   ],
   "source": [
    "from sklearn.model_selection import train_test_split\n",
    "x = data.drop([\"delay_min\", \"flight_id\"], axis=1)\n",
    "y = data[\"delay_min\"]\n",
    "X_train, X_test, y_train, y_test = train_test_split(\n",
    "    x,y, test_size=0.2, random_state=42\n",
    ")\n",
    "print(f\"تعداد داده‌های آموزش: {len(X_train)}\")\n",
    "print(f\"تعداد داده‌های آزمون: {len(X_test)}\")\n"
   ]
  },
  {
   "cell_type": "code",
   "execution_count": 429,
   "id": "c4c68516",
   "metadata": {},
   "outputs": [
    {
     "name": "stdout",
     "output_type": "stream",
     "text": [
      "MAE: 14.45\n",
      "R2 Score: 0.37\n"
     ]
    }
   ],
   "source": [
    "from sklearn.ensemble import RandomForestRegressor\n",
    "from sklearn.metrics import mean_absolute_error, r2_score\n",
    "\n",
    "model = RandomForestRegressor(n_estimators=100,random_state=42)\n",
    "model.fit(X_train,y_train)\n",
    "y_pred =model.predict(X_test)\n",
    "print(f\"MAE: {mean_absolute_error(y_test, y_pred):.2f}\")\n",
    "print(f\"R2 Score: {r2_score(y_test, y_pred):.2f}\")\n"
   ]
  },
  {
   "cell_type": "markdown",
   "id": "28b135f4",
   "metadata": {},
   "source": [
    "## Mean Absolute Error = خطای میانگین مطلق\n",
    "یعنی مدل، به طور میانگین حدود ۱۵.۸۹ دقیقه با مقدار واقعی تأخیرها اختلاف داره.\n",
    "### ضریب تعیین (R-squared)\n",
    "### مقداری بین 0 تا 1 هست که نشون می‌ده مدل چقدر خوب می‌تونه داده رو توضیح بده.\n",
    "\n",
    "1.0 یعنی پیش‌بینی بی‌نقص\n",
    "\n",
    "0.0 یعنی مدل هیچ چیزی رو نتونسته یاد بگیره\n",
    "\n",
    "0.26 یعنی مدل فقط حدود ۲۶٪ از تغییرات تأخیر پرواز رو تونسته توضیح بده"
   ]
  }
 ],
 "metadata": {
  "kernelspec": {
   "display_name": "Python 3",
   "language": "python",
   "name": "python3"
  },
  "language_info": {
   "codemirror_mode": {
    "name": "ipython",
    "version": 3
   },
   "file_extension": ".py",
   "mimetype": "text/x-python",
   "name": "python",
   "nbconvert_exporter": "python",
   "pygments_lexer": "ipython3",
   "version": "3.12.6"
  }
 },
 "nbformat": 4,
 "nbformat_minor": 5
}
